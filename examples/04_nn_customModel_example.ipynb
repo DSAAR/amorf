{
 "nbformat": 4,
 "nbformat_minor": 2,
 "metadata": {
  "language_info": {
   "name": "python",
   "codemirror_mode": {
    "name": "ipython",
    "version": 3
   },
   "version": "3.7.4"
  },
  "orig_nbformat": 2,
  "file_extension": ".py",
  "mimetype": "text/x-python",
  "name": "python",
  "npconvert_exporter": "python",
  "pygments_lexer": "ipython3",
  "version": 3
 },
 "cells": [
  {
   "cell_type": "markdown",
   "execution_count": null,
   "metadata": {},
   "outputs": [],
   "source": [
    "# Advanced Neural Net Regression Example \n",
    "This example will show you how to use one of the provided data sets and ```amorf.NeuralNetRegression.NeuralNetRegressor``` to perform a multi-output Regression using a custom PyTorch model. \n"
   ]
  },
  {
   "cell_type": "markdown",
   "execution_count": null,
   "metadata": {},
   "outputs": [],
   "source": [
    "## Load Test and Training Data"
   ]
  },
  {
   "cell_type": "code",
   "execution_count": 25,
   "metadata": {},
   "outputs": [],
   "source": [
    "from amorf.datasets import RiverFlow1 \n",
    "from sklearn.model_selection import train_test_split\n",
    "\n",
    "X, y = RiverFlow1().get_numpy()\n",
    "\n",
    "X_train, X_test, y_train, y_test = train_test_split(X, y, test_size=0.2, shuffle=True)"
   ]
  },
  {
   "cell_type": "markdown",
   "execution_count": null,
   "metadata": {},
   "outputs": [],
   "source": [
    "## Normalizing Data"
   ]
  },
  {
   "cell_type": "code",
   "execution_count": 27,
   "metadata": {},
   "outputs": [],
   "source": [
    "from sklearn.preprocessing import normalize \n",
    "\n",
    "X_train = normalize(X_train) \n",
    "X_test = normalize(X_test)"
   ]
  },
  {
   "cell_type": "markdown",
   "execution_count": null,
   "metadata": {},
   "outputs": [],
   "source": [
    "## Build Custom PyTorch Model \n",
    "\n",
    "If you feel you don't know enough about PyTorch moodels you can take a look at this https://pytorch.org/tutorials/beginner/blitz/neural_networks_tutorial.html#sphx-glr-beginner-blitz-neural-networks-tutorial-py  "
   ]
  },
  {
   "cell_type": "code",
   "execution_count": 28,
   "metadata": {},
   "outputs": [],
   "source": [
    "import torch\n",
    "import torch.nn as nn\n",
    "import torch.nn.functional as F\n",
    "\n",
    "\n",
    "class Net(nn.Module):\n",
    "    def __init__(self, input_dim, output_dim, p_dropout_1=0.5, p_dropout_2=0.5):\n",
    "        super().__init__()\n",
    "        self.dropout_1 = p_dropout_1\n",
    "        self.dropout_2 = p_dropout_2\n",
    "       \n",
    "        self.batchNorm1 = nn.BatchNorm1d(256)\n",
    "        self.batchNorm2 = nn.BatchNorm1d(64)\n",
    "\n",
    "        self.fc1 = nn.Linear(input_dim, 256)\n",
    "        self.fc2 = nn.Linear(256, 128)\n",
    "        self.fc3 = nn.Linear(128, 64) \n",
    "        self.fc4 = nn.Linear(64,32) \n",
    "        self.fc5 = nn.Linear(32,output_dim)\n",
    "\n",
    "    def forward(self, x):\n",
    "        out = self.fc1(x)\n",
    "        out = self.batchNorm1(out)\n",
    "        out = F.relu(out)\n",
    "        out = F.dropout(out, self.dropout_1)\n",
    "        out = self.fc2(out)\n",
    "        out = F.relu(out)\n",
    "        out = self.fc3(out)\n",
    "        out = self.batchNorm2(out)\n",
    "        out = F.relu(out) \n",
    "        out = F.dropout(out, self.dropout_2)\n",
    "        out = self.fc4(out)\n",
    "        out = F.relu(out) \n",
    "        out = self.fc5(out)\n",
    "\n",
    "        return out \n",
    "    \n",
    "    def convert_train_set_to_tensor(self, X_train, y_train, device):\n",
    "        X_train_t = torch.from_numpy(X_train).to(device).float()\n",
    "        y_train_t = torch.from_numpy(y_train).to(device).float()\n",
    "\n",
    "        return X_train_t, y_train_t\n",
    "\n",
    "    def convert_test_set_to_tensor(self, X_test, device):\n",
    "        X_test_t = torch.from_numpy(X_test).to(device).float()\n",
    "        return X_test_t"
   ]
  },
  {
   "cell_type": "markdown",
   "execution_count": null,
   "metadata": {},
   "outputs": [],
   "source": [
    "## Initialize and Train Estimator"
   ]
  },
  {
   "cell_type": "code",
   "execution_count": 11,
   "metadata": {},
   "outputs": [
    {
     "name": "stdout",
     "output_type": "stream",
     "text": "Epoch: 0\nValidation Error: 2.8269431591033936 \nTrain Error: 2.438387393951416\nEpoch: 100\nValidation Error: 0.445943146944046 \nTrain Error: 0.41736263036727905\nEpoch: 200\nValidation Error: 0.3839591145515442 \nTrain Error: 0.3855123221874237\nEpoch: 300\nValidation Error: 0.35046833753585815 \nTrain Error: 0.34234800934791565\nEpoch: 400\nValidation Error: 0.31788256764411926 \nTrain Error: 0.32208138704299927\nEpoch: 500\nValidation Error: 0.3051885962486267 \nTrain Error: 0.3064659833908081\nEpoch: 600\nValidation Error: 0.2929025888442993 \nTrain Error: 0.30002111196517944\nEpoch: 700\nValidation Error: 0.2793003022670746 \nTrain Error: 0.2870289087295532\nEpoch: 800\nValidation Error: 0.27429503202438354 \nTrain Error: 0.2892204225063324\nEpoch: 900\nValidation Error: 0.2604061961174011 \nTrain Error: 0.27726155519485474\nEpoch: 1000\nValidation Error: 0.2517169713973999 \nTrain Error: 0.26893192529678345\nEpoch: 1100\nValidation Error: 0.23829714953899384 \nTrain Error: 0.25703567266464233\nEpoch: 1200\nValidation Error: 0.22766289114952087 \nTrain Error: 0.25129804015159607\nEpoch: 1300\nValidation Error: 0.23075807094573975 \nTrain Error: 0.26169633865356445\nEpoch: 1400\nValidation Error: 0.2215212881565094 \nTrain Error: 0.24354542791843414\nEpoch: 1500\nValidation Error: 0.22011680901050568 \nTrain Error: 0.24280743300914764\nEpoch: 1600\nValidation Error: 0.21945975720882416 \nTrain Error: 0.23855069279670715\nEpoch: 1700\nValidation Error: 0.21934936940670013 \nTrain Error: 0.2385956048965454\nEpoch: 1800\nValidation Error: 0.21502208709716797 \nTrain Error: 0.23561400175094604\nEpoch: 1900\nValidation Error: 0.22623960673809052 \nTrain Error: 0.23258832097053528\nEpoch: 2000\nValidation Error: 0.2250087857246399 \nTrain Error: 0.23022028803825378\nEpoch: 2100\nValidation Error: 0.225347638130188 \nTrain Error: 0.23460926115512848\nEpoch: 2200\nValidation Error: 0.22176851332187653 \nTrain Error: 0.23432861268520355\nEpoch: 2300\nValidation Error: 0.23462307453155518 \nTrain Error: 0.23151925206184387\nEpoch: 2400\nValidation Error: 0.22323469817638397 \nTrain Error: 0.2255159467458725\nEpoch: 2500\nValidation Error: 0.20700182020664215 \nTrain Error: 0.2238018959760666\nEpoch: 2600\nValidation Error: 0.22421753406524658 \nTrain Error: 0.22502684593200684\nEpoch: 2700\nValidation Error: 0.22016462683677673 \nTrain Error: 0.2226220965385437\nEpoch: 2800\nValidation Error: 0.2072698473930359 \nTrain Error: 0.22360903024673462\nEpoch: 2900\nValidation Error: 0.2250458002090454 \nTrain Error: 0.22824916243553162\nEpoch: 3000\nValidation Error: 0.21013584733009338 \nTrain Error: 0.21959829330444336\nEpoch: 3100\nValidation Error: 0.2131495475769043 \nTrain Error: 0.22223475575447083\nEpoch: 3200\nValidation Error: 0.21442708373069763 \nTrain Error: 0.22210060060024261\nEpoch: 3300\nValidation Error: 0.21644967794418335 \nTrain Error: 0.22185273468494415\nEpoch: 3400\nValidation Error: 0.21313093602657318 \nTrain Error: 0.21910524368286133\nEpoch: 3500\nValidation Error: 0.20821267366409302 \nTrain Error: 0.21828967332839966\nEpoch: 3600\nValidation Error: 0.21225976943969727 \nTrain Error: 0.2203165888786316\nEpoch: 3700\nValidation Error: 0.2090865820646286 \nTrain Error: 0.2216501086950302\nEpoch: 3800\nValidation Error: 0.2210581749677658 \nTrain Error: 0.21832649409770966\nEpoch: 3900\nValidation Error: 0.21540036797523499 \nTrain Error: 0.21709583699703217\nEpoch: 4000\nValidation Error: 0.2242894023656845 \nTrain Error: 0.21697330474853516\nEpoch: 4100\nValidation Error: 0.21413199603557587 \nTrain Error: 0.215022474527359\nEpoch: 4200\nValidation Error: 0.21618515253067017 \nTrain Error: 0.21341213583946228\nEpoch: 4300\nValidation Error: 0.21942706406116486 \nTrain Error: 0.21545739471912384\nEpoch: 4400\nValidation Error: 0.2196725308895111 \nTrain Error: 0.21657320857048035\nEpoch: 4500\nValidation Error: 0.20769387483596802 \nTrain Error: 0.21363522112369537\nEpoch: 4600\nValidation Error: 0.23274509608745575 \nTrain Error: 0.21518780291080475\nEpoch: 4700\nValidation Error: 0.22544652223587036 \nTrain Error: 0.2153133749961853\nEpoch: 4800\nValidation Error: 0.20400942862033844 \nTrain Error: 0.21204312145709991\nEpoch: 4900\nValidation Error: 0.21580399572849274 \nTrain Error: 0.21797536313533783\nEpoch: 5000\nValidation Error: 0.20568400621414185 \nTrain Error: 0.21339936554431915\nEpoch: 5100\nValidation Error: 0.22301314771175385 \nTrain Error: 0.21586735546588898\nEpoch: 5200\nValidation Error: 0.20405049622058868 \nTrain Error: 0.21303781867027283\nEpoch: 5300\nValidation Error: 0.200259268283844 \nTrain Error: 0.2119639366865158\nEpoch: 5400\nValidation Error: 0.21600735187530518 \nTrain Error: 0.21987058222293854\nEpoch: 5500\nValidation Error: 0.20402778685092926 \nTrain Error: 0.2141266018152237\nEpoch: 5600\nValidation Error: 0.20554371178150177 \nTrain Error: 0.2112162858247757\nEpoch: 5700\nValidation Error: 0.22414104640483856 \nTrain Error: 0.2159670889377594\nEpoch: 5800\nValidation Error: 0.21842063963413239 \nTrain Error: 0.20933349430561066\nEpoch: 5900\nValidation Error: 0.2219054400920868 \nTrain Error: 0.21185427904129028\nEpoch: 6000\nValidation Error: 0.2056005299091339 \nTrain Error: 0.21212810277938843\nEpoch: 6100\nValidation Error: 0.21834145486354828 \nTrain Error: 0.2121199071407318\nEpoch: 6200\nValidation Error: 0.23051241040229797 \nTrain Error: 0.21295954287052155\nEpoch: 6300\nValidation Error: 0.20508302748203278 \nTrain Error: 0.21310700476169586\nEpoch: 6400\nValidation Error: 0.20346343517303467 \nTrain Error: 0.21064826846122742\nEpoch: 6500\nValidation Error: 0.2037113755941391 \nTrain Error: 0.21163539588451385\nEpoch: 6600\nValidation Error: 0.19643111526966095 \nTrain Error: 0.2107120156288147\nEpoch: 6700\nValidation Error: 0.21407146751880646 \nTrain Error: 0.21218009293079376\nEpoch: 6800\nValidation Error: 0.20737215876579285 \nTrain Error: 0.21442505717277527\nEpoch: 6900\nValidation Error: 0.1973448395729065 \nTrain Error: 0.2087392807006836\nEpoch: 7000\nValidation Error: 0.21655896306037903 \nTrain Error: 0.21300008893013\nEpoch: 7100\nValidation Error: 0.21141281723976135 \nTrain Error: 0.20836859941482544\nEpoch: 7200\nValidation Error: 0.21088014543056488 \nTrain Error: 0.2097618579864502\nEpoch: 7300\nValidation Error: 0.20874826610088348 \nTrain Error: 0.20942841470241547\nEpoch: 7400\nValidation Error: 0.2091965675354004 \nTrain Error: 0.20897804200649261\nEpoch: 7500\nValidation Error: 0.2290259152650833 \nTrain Error: 0.20999974012374878\nEpoch: 7600\nValidation Error: 0.209427148103714 \nTrain Error: 0.20903950929641724\nEpoch: 7700\nValidation Error: 0.21164724230766296 \nTrain Error: 0.2095821648836136\nEpoch: 7800\nValidation Error: 0.21825014054775238 \nTrain Error: 0.20862193405628204\nEpoch: 7900\nValidation Error: 0.22547875344753265 \nTrain Error: 0.20871110260486603\nEpoch: 8000\nValidation Error: 0.20573309063911438 \nTrain Error: 0.2070387303829193\nEpoch: 8100\nValidation Error: 0.20351892709732056 \nTrain Error: 0.2087230384349823\nEpoch: 8200\nValidation Error: 0.2119334191083908 \nTrain Error: 0.2079271525144577\nEpoch: 8300\nValidation Error: 0.21873381733894348 \nTrain Error: 0.20886147022247314\nEpoch: 8400\nValidation Error: 0.19743990898132324 \nTrain Error: 0.20832577347755432\nEpoch: 8500\nValidation Error: 0.21772967278957367 \nTrain Error: 0.20771221816539764\nEpoch: 8600\nValidation Error: 0.22218886017799377 \nTrain Error: 0.20951904356479645\nEpoch: 8700\nValidation Error: 0.21743027865886688 \nTrain Error: 0.21071068942546844\nEpoch: 8800\nValidation Error: 0.2050350308418274 \nTrain Error: 0.20935861766338348\nEpoch: 8900\nValidation Error: 0.2186439037322998 \nTrain Error: 0.20761696994304657\nEpoch: 9000\nValidation Error: 0.22528529167175293 \nTrain Error: 0.20750103890895844\nEpoch: 9100\nValidation Error: 0.22559870779514313 \nTrain Error: 0.2082391381263733\nEpoch: 9200\nValidation Error: 0.22294092178344727 \nTrain Error: 0.20681104063987732\nEpoch: 9300\nValidation Error: 0.20873691141605377 \nTrain Error: 0.20801931619644165\nEpoch: 9400\nValidation Error: 0.20796263217926025 \nTrain Error: 0.21008989214897156\nEpoch: 9500\nValidation Error: 0.20605352520942688 \nTrain Error: 0.21054194867610931\nEpoch: 9600\nValidation Error: 0.239644393324852 \nTrain Error: 0.2065979540348053\nEpoch: 9700\nValidation Error: 0.24313853681087494 \nTrain Error: 0.20696067810058594\nEpoch: 9800\nValidation Error: 0.2103693038225174 \nTrain Error: 0.20913095772266388\nEpoch: 9900\nValidation Error: 0.21928146481513977 \nTrain Error: 0.2058974951505661\nFinal Epochs: 10000 \nFinal Train Error: 0.2076120674610138\nFinal Validation Error: 0.2331351786851883\n"
    },
    {
     "data": {
      "text/plain": "<amorf.neuralNetRegression.NeuralNetRegressor at 0x7fd37eafb310>"
     },
     "execution_count": 11,
     "metadata": {},
     "output_type": "execute_result"
    }
   ],
   "source": [
    "import amorf.neuralNetRegression as neural \n",
    "\n",
    "input_dim = len(X_train[0])\n",
    "output_dim = len(y_train[0]) \n",
    "\n",
    "model = Net(input_dim, output_dim, p_dropout_1=0.3, p_dropout_2=0.2)  \n",
    "estimator = neural.NeuralNetRegressor(model= model, patience=None, training_limit=1000, batch_size=1000) \n",
    "estimator.fit(X_train, y_train)\n"
   ]
  },
  {
   "cell_type": "markdown",
   "execution_count": null,
   "metadata": {},
   "outputs": [],
   "source": [
    "## Perform Prediction and Calculate Error \n"
   ]
  },
  {
   "cell_type": "code",
   "execution_count": 13,
   "metadata": {},
   "outputs": [
    {
     "name": "stdout",
     "output_type": "stream",
     "text": "0.19865390937775373\n"
    }
   ],
   "source": [
    "from amorf.metrics import average_relative_root_mean_squared_error\n",
    "\n",
    "result = estimator.predict(X_test) \n",
    "print(average_relative_root_mean_squared_error(result, y_test))"
   ]
  },
  {
   "cell_type": "markdown",
   "execution_count": null,
   "metadata": {},
   "outputs": [],
   "source": [
    "## Save Model"
   ]
  },
  {
   "cell_type": "code",
   "execution_count": 22,
   "metadata": {},
   "outputs": [
    {
     "name": "stderr",
     "output_type": "stream",
     "text": "/home/davidhildner/anaconda3/envs/ppl/lib/python3.7/site-packages/torch/serialization.py:292: UserWarning: Couldn't retrieve source code for container of type Net. It won't be checked for correctness upon loading.\n  \"type \" + obj.__name__ + \". It won't be checked \"\n/home/davidhildner/anaconda3/envs/ppl/lib/python3.7/site-packages/torch/serialization.py:292: UserWarning: Couldn't retrieve source code for container of type BatchNorm1d. It won't be checked for correctness upon loading.\n  \"type \" + obj.__name__ + \". It won't be checked \"\n/home/davidhildner/anaconda3/envs/ppl/lib/python3.7/site-packages/torch/serialization.py:292: UserWarning: Couldn't retrieve source code for container of type Linear. It won't be checked for correctness upon loading.\n  \"type \" + obj.__name__ + \". It won't be checked \"\n"
    }
   ],
   "source": [
    "path = \"savedExampleModel\"\n",
    "estimator.save(path)"
   ]
  },
  {
   "cell_type": "markdown",
   "execution_count": null,
   "metadata": {},
   "outputs": [],
   "source": [
    "## Load Model and predict"
   ]
  },
  {
   "cell_type": "code",
   "execution_count": 24,
   "metadata": {},
   "outputs": [
    {
     "name": "stdout",
     "output_type": "stream",
     "text": "Traceback (most recent call last):\n  File \"/home/davidhildner/Dropbox/Masterarbeit/01_Research/Code/david_master_thesis/amorf/neuralNetRegression.py\", line 176, in load\n    model = torch.load(load_path).to(self.Device)\n  File \"/home/davidhildner/anaconda3/envs/ppl/lib/python3.7/site-packages/torch/serialization.py\", line 419, in load\n    f = open(f, 'rb')\nFileNotFoundError: [Errno 2] No such file or directory: 'savedExampleModel.cpkt'\n\n"
    },
    {
     "ename": "AttributeError",
     "evalue": "'NoneType' object has no attribute 'convert_test_set_to_tensor'",
     "output_type": "error",
     "traceback": [
      "\u001b[0;31m---------------------------------------------------------------------------\u001b[0m",
      "\u001b[0;31mAttributeError\u001b[0m                            Traceback (most recent call last)",
      "\u001b[0;32m<ipython-input-24-5db309a9dc5b>\u001b[0m in \u001b[0;36m<module>\u001b[0;34m()\u001b[0m\n\u001b[1;32m      2\u001b[0m \u001b[0mnewEstimator\u001b[0m\u001b[0;34m.\u001b[0m\u001b[0mload\u001b[0m\u001b[0;34m(\u001b[0m\u001b[0;34m\"savedExampleModel.cpkt\"\u001b[0m\u001b[0;34m)\u001b[0m\u001b[0;34m\u001b[0m\u001b[0;34m\u001b[0m\u001b[0m\n\u001b[1;32m      3\u001b[0m \u001b[0;34m\u001b[0m\u001b[0m\n\u001b[0;32m----> 4\u001b[0;31m \u001b[0mnew_result\u001b[0m \u001b[0;34m=\u001b[0m \u001b[0mnewEstimator\u001b[0m\u001b[0;34m.\u001b[0m\u001b[0mpredict\u001b[0m\u001b[0;34m(\u001b[0m\u001b[0mX_test\u001b[0m\u001b[0;34m)\u001b[0m\u001b[0;34m\u001b[0m\u001b[0;34m\u001b[0m\u001b[0m\n\u001b[0m\u001b[1;32m      5\u001b[0m \u001b[0mprint\u001b[0m\u001b[0;34m(\u001b[0m\u001b[0maverage_relative_root_mean_squared_error\u001b[0m\u001b[0;34m(\u001b[0m\u001b[0mresult\u001b[0m\u001b[0;34m,\u001b[0m \u001b[0my_test\u001b[0m\u001b[0;34m)\u001b[0m\u001b[0;34m)\u001b[0m\u001b[0;34m\u001b[0m\u001b[0;34m\u001b[0m\u001b[0m\n",
      "\u001b[0;32m~/Dropbox/Masterarbeit/01_Research/Code/david_master_thesis/amorf/neuralNetRegression.py\u001b[0m in \u001b[0;36mpredict\u001b[0;34m(self, X_test)\u001b[0m\n\u001b[1;32m    148\u001b[0m         \"\"\"\n\u001b[1;32m    149\u001b[0m \u001b[0;34m\u001b[0m\u001b[0m\n\u001b[0;32m--> 150\u001b[0;31m         \u001b[0mX_test_t\u001b[0m \u001b[0;34m=\u001b[0m \u001b[0mself\u001b[0m\u001b[0;34m.\u001b[0m\u001b[0mmodel\u001b[0m\u001b[0;34m.\u001b[0m\u001b[0mconvert_test_set_to_tensor\u001b[0m\u001b[0;34m(\u001b[0m\u001b[0mX_test\u001b[0m\u001b[0;34m,\u001b[0m \u001b[0mself\u001b[0m\u001b[0;34m.\u001b[0m\u001b[0mDevice\u001b[0m\u001b[0;34m)\u001b[0m\u001b[0;34m\u001b[0m\u001b[0;34m\u001b[0m\u001b[0m\n\u001b[0m\u001b[1;32m    151\u001b[0m \u001b[0;34m\u001b[0m\u001b[0m\n\u001b[1;32m    152\u001b[0m         \u001b[0mself\u001b[0m\u001b[0;34m.\u001b[0m\u001b[0mmodel\u001b[0m\u001b[0;34m.\u001b[0m\u001b[0meval\u001b[0m\u001b[0;34m(\u001b[0m\u001b[0;34m)\u001b[0m\u001b[0;34m\u001b[0m\u001b[0;34m\u001b[0m\u001b[0m\n",
      "\u001b[0;31mAttributeError\u001b[0m: 'NoneType' object has no attribute 'convert_test_set_to_tensor'"
     ]
    }
   ],
   "source": [
    "newEstimator = neural.NeuralNetRegressor(patience=None, training_limit=10000, batch_size=1000) \n",
    "newEstimator.load(\"savedExampleModel.cpkt\") \n",
    "\n",
    "new_result = newEstimator.predict(X_test) \n",
    "print(average_relative_root_mean_squared_error(result, y_test))"
   ]
  },
  {
   "cell_type": "code",
   "execution_count": null,
   "metadata": {},
   "outputs": [],
   "source": []
  }
 ]
}